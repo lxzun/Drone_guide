{
 "cells": [
  {
   "cell_type": "markdown",
   "metadata": {},
   "source": [
    "<H2>예제"
   ]
  },
  {
   "cell_type": "markdown",
   "metadata": {},
   "source": [
    "&nbsp;지금까지 우리는 허밍버드 펌웨어 업데이트부터 라즈베리파이제로의 환경구축, Python을 통한 허밍버드 제어 그리고 Python에서 이미지를 처리하는 방법까지 배워왔다. 이제 간단한 이미지 처리를 통해서 드론을 직접 제어해 보는 시간을 가질 것이다. 이미지 처리를 통해서 드론을 제어하려면 어떤 상황에서 드론이 어떻게 움직일지를 먼저 정해야 한다. 다음 이미지는 드론의 하방카메라로 촬영한 비행 경로 이미지 이다.  \n",
    "<br></br>\n",
    "\n",
    "<div style=\"float: left; width: 33%\">\n",
    "<img src=\"./img/image_r.jpg\"/>\n",
    "    <center>그림 1</center>\n",
    "</div>\n",
    "\n",
    "<div style=\"float: left; width: 33%\">\n",
    "<img src=\"./img/image_l.jpg\"/>\n",
    "    <center>그림 2</center>\n",
    "</div>\n",
    "\n",
    "<div style=\"float: left; width: 33%\">\n",
    "<img src=\"./img/image_a.jpg\"/>\n",
    "    <center>그림 3</center>\n",
    "</div>"
   ]
  },
  {
   "cell_type": "markdown",
   "metadata": {},
   "source": [
    "&nbsp;그림 1의 경우 드론은 오른쪽으로 방향을 틀어야 하고 그림 2의 경우에는 왼쪽으로 방향을 틀어야 한다. 그리고 그림 3처럼 경로가 반듯하다면 드론은 직진할 것이다.  \n",
    "\n",
    "+ 그림 1의 경우 => 우회전\n",
    "+ 그림 2의 경우 => 좌회전\n",
    "+ 그림 3의 경우 => 직진\n",
    "\n",
    "&nbsp;우리는 이제 어떤 상황에서 드론이 어떻게 움직여야 할지 알았다. 이미지 처리를 통해서 저 세가지 조건을 구분해 드론을 제어해 보자."
   ]
  },
  {
   "cell_type": "markdown",
   "metadata": {},
   "source": [
    "## 이미지 처리"
   ]
  },
  {
   "cell_type": "markdown",
   "metadata": {},
   "source": [
    "먼저 이미지 처리를 위한 기본적인 모듈을 import한다."
   ]
  },
  {
   "cell_type": "code",
   "execution_count": 3,
   "metadata": {},
   "outputs": [],
   "source": [
    "import numpy as np\n",
    "import cv2\n",
    "import math"
   ]
  },
  {
   "cell_type": "markdown",
   "metadata": {},
   "source": [
    "그 다음 이미지 처리를 위한 실험용 주행 경로 이미지를 불러온다."
   ]
  },
  {
   "cell_type": "code",
   "execution_count": 4,
   "metadata": {},
   "outputs": [],
   "source": [
    "route_r = cv2.imread('./img/image_r.jpg')\n",
    "route_l = cv2.imread('./img/image_l.jpg')\n",
    "route_a = cv2.imread('./img/image_a.jpg')"
   ]
  },
  {
   "cell_type": "markdown",
   "metadata": {},
   "source": [
    "우리는 불러온 세개의 이미지를 처리하여 각각 right, left, go_ahead를 출력하게 할 것이다. 따라서 for를 사용하여 세 이미지가 한 번씩 같은 코드를 거쳐 결과를 출력하게 만든다."
   ]
  },
  {
   "cell_type": "code",
   "execution_count": 5,
   "metadata": {},
   "outputs": [],
   "source": [
    "for img in [route_r, route_l, route_a]:\n",
    "    pass"
   ]
  },
  {
   "cell_type": "markdown",
   "metadata": {},
   "source": [
    "이제 우리는 pass 부분을 채워 넣어야 한다."
   ]
  },
  {
   "cell_type": "code",
   "execution_count": null,
   "metadata": {},
   "outputs": [],
   "source": [
    "import numpy as np\n",
    "import cv2\n",
    "import math\n",
    "\n",
    "route_r = cv2.imread('./img/image_r.jpg')\n",
    "route_l = cv2.imread('./img/image_l.jpg')\n",
    "route_a = cv2.imread('./img/image_a.jpg')\n",
    "\n",
    "for img in [route_r, route_l, route_a]:\n",
    "    cv2.imshow('test', img)\n",
    "    cv2.waitKey(0)\n",
    "    cv2.destroyAllWindows()\n",
    "    yuvimage = cv2.cvtColor(img, cv2.COLOR_BGR2YUV)\n",
    "    \n",
    "    cv2.imshow('test', yuvimage)\n",
    "    cv2.waitKey(0)\n",
    "    cv2.destroyAllWindows()\n",
    "    \n",
    "    incrop = 150\n",
    "    yuvimage = yuvimage[incrop:-150, 150:-150, :]\n",
    "    \n",
    "    \n",
    "    cv2.imshow('test', yuvimage)\n",
    "    cv2.waitKey(0)\n",
    "    cv2.destroyAllWindows()\n",
    "    \n",
    "    center_idx = [80, 210]  # 세로, 가로\n",
    "\n",
    "    u = yuvimage[:, :, 1]\n",
    "    v = yuvimage[:, :, 2]\n",
    "\n",
    "    biimage_yuv = np.zeros(np.shape(u))\n",
    "    \n",
    "    cv2.imshow('test', biimage_yuv)\n",
    "    cv2.waitKey(0)\n",
    "    cv2.destroyAllWindows()\n",
    "    \n",
    "    biimage_yuv[u > 135] = 200\n",
    "    \n",
    "    cv2.imshow('test', biimage_yuv)\n",
    "    cv2.waitKey(0)\n",
    "    cv2.destroyAllWindows()\n",
    "    \n",
    "    # 파라미터 초기화\n",
    "    yaw_cmd = 0\n",
    "    pitch_cmd = 0\n",
    "    roll_cmd = 0\n",
    "    vel = 0\n",
    "\n",
    "    road_ix = np.where(200 == biimage_yuv)\n",
    "    road_x = road_ix[0]\n",
    "    road_y = road_ix[1]\n",
    "\n",
    "    yy = int(np.mean(road_x))\n",
    "    xx = int(np.mean(road_y))\n",
    "\n",
    "    top_ix = np.where(road_x[0] == road_x)\n",
    "    top_i = top_ix[0][-1]\n",
    "    top_max = road_y[top_i]\n",
    "    bottom_max = road_y[-1]\n",
    "\n",
    "    # ROLL 제어 Part (좌우)\n",
    "    if abs(center_idx[1] - xx) > 60:  # 좌우 threshold\n",
    "        if xx > 220:\n",
    "            roll_cmd = -0.1  ### 오른쪽 이동 정도\n",
    "        else:\n",
    "            roll_cmd = 0.1  ### 왼쪽 이동 정도\n",
    "        vel = 0.2\n",
    "        cucmd = 'roll control (+좌,-우) : ' + str(roll_cmd)\n",
    "\n",
    "    # YAW 제어 Part (회전)\n",
    "    elif abs(top_max - bottom_max) > 50:  # 각도 threshold\n",
    "        roadangle = top_max - bottom_max\n",
    "        yaw_cmd = int(roadangle / 3) * (-1)\n",
    "        if yaw_cmd > 35:\n",
    "            yaw_cmd = 35  ### 오른쪽 최대 회전 각도\n",
    "        if yaw_cmd < -35:\n",
    "            yaw_cmd = -35  ### 왼쪽 최대 회전 각도\n",
    "        cucmd = 'yaw control (+오,-왼) : ' + str(yaw_cmd)\n",
    "\n",
    "    # PITCH 제어 Part (앞뒤)\n",
    "    else:\n",
    "        pitch_cmd = 0.25  ### 앞으로 이동할 거리\n",
    "        vel = 0.3  ### 속도\n",
    "        cucmd = 'pitch control (앞) : ' + str(pitch_cmd)\n",
    "\n",
    "    print(cucmd)\n",
    "#     return (0, yaw_cmd, pitch_cmd, roll_cmd, vel)"
   ]
  },
  {
   "cell_type": "code",
   "execution_count": null,
   "metadata": {},
   "outputs": [],
   "source": []
  }
 ],
 "metadata": {
  "kernelspec": {
   "display_name": "Python 3",
   "language": "python",
   "name": "python3"
  },
  "language_info": {
   "codemirror_mode": {
    "name": "ipython",
    "version": 3
   },
   "file_extension": ".py",
   "mimetype": "text/x-python",
   "name": "python",
   "nbconvert_exporter": "python",
   "pygments_lexer": "ipython3",
   "version": "3.7.5"
  }
 },
 "nbformat": 4,
 "nbformat_minor": 4
}
