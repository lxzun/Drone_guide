{
 "cells": [
  {
   "cell_type": "markdown",
   "metadata": {},
   "source": [
    "<H2>예제"
   ]
  },
  {
   "cell_type": "markdown",
   "metadata": {},
   "source": [
    "&nbsp;지금까지 우리는 허밍버드 펌웨어 업데이트부터 라즈베리파이제로의 환경구축, Python을 통한 허밍버드 제어 그리고 Python에서 이미지를 처리하는 방법까지 배워왔다. 이제 간단한 이미지 처리를 통해서 드론을 직접 제어해 보는 시간을 가질 것이다. 이미지 처리를 통해서 드론을 제어하려면 어떤 상황에서 드론이 어떻게 움직일지를 먼저 정해야 한다. 다음 이미지는 드론의 하방카메라로 촬영한 비행 경로 이미지 이다.  \n",
    "<br></br>\n",
    "\n",
    "<div style=\"float: left; width: 33%\">\n",
    "<img src=\"./img/image_r.jpg\"/>\n",
    "    <center>그림 1</center>\n",
    "</div>\n",
    "\n",
    "<div style=\"float: left; width: 33%\">\n",
    "<img src=\"./img/image_l.jpg\"/>\n",
    "    <center>그림 2</center>\n",
    "</div>\n",
    "\n",
    "<div style=\"float: left; width: 33%\">\n",
    "<img src=\"./img/image_a.jpg\"/>\n",
    "    <center>그림 3</center>\n",
    "</div>"
   ]
  },
  {
   "cell_type": "markdown",
   "metadata": {},
   "source": [
    "&nbsp;그림 1의 경우 드론은 오른쪽으로 방향을 틀어야 하고 그림 2의 경우에는 왼쪽으로 방향을 틀어야 한다. 그리고 그림 3처럼 경로가 반듯하다면 드론은 직진할 것이다.  \n",
    "\n",
    "+ 그림 1의 경우 => 우회전\n",
    "+ 그림 2의 경우 => 좌회전\n",
    "+ 그림 3의 경우 => 직진\n",
    "\n",
    "&nbsp;우리는 이제 어떤 상황에서 드론이 어떻게 움직여야 할지 알았다. 이미지 처리를 통해서 저 세가지 조건을 구분해 드론을 제어해 보자."
   ]
  },
  {
   "cell_type": "markdown",
   "metadata": {},
   "source": [
    "## 이미지 처리"
   ]
  },
  {
   "cell_type": "markdown",
   "metadata": {},
   "source": [
    "먼저 이미지 처리를 위한 기본적인 모듈을 import한다."
   ]
  },
  {
   "cell_type": "code",
   "execution_count": 3,
   "metadata": {},
   "outputs": [],
   "source": [
    "import numpy as np\n",
    "import cv2\n",
    "import math"
   ]
  },
  {
   "cell_type": "markdown",
   "metadata": {},
   "source": [
    "그 다음 이미지 처리를 위한 실험용 경로 이미지를 불러온다."
   ]
  },
  {
   "cell_type": "code",
   "execution_count": 4,
   "metadata": {},
   "outputs": [],
   "source": [
    "route_r = cv2.imread('./img/image_r.jpg')\n",
    "route_l = cv2.imread('./img/image_l.jpg')\n",
    "route_a = cv2.imread('./img/image_a.jpg')"
   ]
  },
  {
   "cell_type": "markdown",
   "metadata": {},
   "source": []
  }
 ],
 "metadata": {
  "kernelspec": {
   "display_name": "Python 3",
   "language": "python",
   "name": "python3"
  },
  "language_info": {
   "codemirror_mode": {
    "name": "ipython",
    "version": 3
   },
   "file_extension": ".py",
   "mimetype": "text/x-python",
   "name": "python",
   "nbconvert_exporter": "python",
   "pygments_lexer": "ipython3",
   "version": "3.6.7"
  }
 },
 "nbformat": 4,
 "nbformat_minor": 4
}
